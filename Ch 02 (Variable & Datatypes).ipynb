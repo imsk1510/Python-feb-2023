{
 "cells": [
  {
   "cell_type": "code",
   "execution_count": 5,
   "id": "1239268a",
   "metadata": {},
   "outputs": [
    {
     "name": "stdout",
     "output_type": "stream",
     "text": [
      "<class 'str'>\n",
      "<class 'str'>\n",
      "<class 'int'>\n",
      "<class 'float'>\n",
      "<class 'bool'>\n",
      "<class 'NoneType'>\n"
     ]
    }
   ],
   "source": [
    "a = \"sohail\"\n",
    "A = \"KIAAN\" #variables names are case sensitive\n",
    "b = 786\n",
    "c = 66.67\n",
    "_d = False #variable name can start with underscore\n",
    "e = None #variable name cannot start with digit\n",
    "\n",
    "#Printing type of variable\n",
    "\n",
    "print(type(a))\n",
    "print(type(A))\n",
    "print(type(b))\n",
    "print(type(c))\n",
    "print(type(_d))\n",
    "print(type(e))"
   ]
  },
  {
   "cell_type": "code",
   "execution_count": 9,
   "id": "535dafc5",
   "metadata": {},
   "outputs": [
    {
     "name": "stdout",
     "output_type": "stream",
     "text": [
      "The value of 5 + 4 is 9\n",
      "The value of 5 - 4 is 9\n",
      "The value of 5 x 4 is 20\n",
      "The value of 5 / 4 is 1.25\n"
     ]
    }
   ],
   "source": [
    "#Arithmatic Operators\n",
    "\n",
    "a = 5\n",
    "b = 4\n",
    "print(\"The value of\",a,\"+\",b,\"is\", a+b)\n",
    "print(\"The value of\",a,\"-\",b,\"is\", a+b)\n",
    "print(\"The value of\",a,\"x\",b,\"is\", a*b)\n",
    "print(\"The value of\",a,\"/\",b,\"is\", a/b)"
   ]
  },
  {
   "cell_type": "code",
   "execution_count": 14,
   "id": "4d2f10b0",
   "metadata": {},
   "outputs": [
    {
     "name": "stdout",
     "output_type": "stream",
     "text": [
      "46\n",
      "28\n",
      "525\n",
      "20.0\n"
     ]
    }
   ],
   "source": [
    "#Assignment Operators\n",
    "\n",
    "a = 34\n",
    "a += 12\n",
    "print(a)\n",
    "\n",
    "b = 38\n",
    "b -= 10\n",
    "print(b)\n",
    "\n",
    "c = 35\n",
    "c *= 15\n",
    "print(c)\n",
    "\n",
    "d = 100\n",
    "d /= 5\n",
    "print(d)\n"
   ]
  },
  {
   "cell_type": "code",
   "execution_count": 19,
   "id": "eccc6e66",
   "metadata": {},
   "outputs": [
    {
     "name": "stdout",
     "output_type": "stream",
     "text": [
      "True\n",
      "False\n",
      "True\n",
      "False\n",
      "True\n"
     ]
    }
   ],
   "source": [
    "#Comparison operators\n",
    "\n",
    "b = (14>7)\n",
    "print(b)\n",
    "\n",
    "c = (100<50)\n",
    "print(c)\n",
    "\n",
    "d = (14<=15)\n",
    "print(d)\n",
    "\n",
    "e = (15>=16)\n",
    "print(e)\n",
    "\n",
    "f = (16!=10)\n",
    "print(f)"
   ]
  },
  {
   "cell_type": "code",
   "execution_count": 22,
   "id": "5d4fc68f",
   "metadata": {},
   "outputs": [
    {
     "name": "stdout",
     "output_type": "stream",
     "text": [
      "The value of bool1 and bool2 is False\n",
      "The value of bool1 or bool2 is True\n",
      "The value of not bool2 is True\n"
     ]
    }
   ],
   "source": [
    "#Logical operators\n",
    "\n",
    "bool1 = True\n",
    "bool2 = False\n",
    "print(\"The value of bool1 and bool2 is\",bool1 and bool2)\n",
    "print(\"The value of bool1 or bool2 is\",bool1 or bool2)\n",
    "print(\"The value of not bool2 is\",not bool2)"
   ]
  },
  {
   "cell_type": "code",
   "execution_count": 26,
   "id": "35cc7015",
   "metadata": {},
   "outputs": [
    {
     "name": "stdout",
     "output_type": "stream",
     "text": [
      "<class 'str'>\n",
      "3539\n"
     ]
    }
   ],
   "source": [
    "#Typecasting\n",
    "a = \"3534\"\n",
    "print(type(a))\n",
    "\n",
    "a = int(a) #Python will TRY to convert it into int\n",
    "print(a+5)"
   ]
  },
  {
   "cell_type": "code",
   "execution_count": 28,
   "id": "a3c72abe",
   "metadata": {},
   "outputs": [
    {
     "name": "stdout",
     "output_type": "stream",
     "text": [
      "Enter your name = Kiaan\n",
      "Welcome to the world of programming Kiaan\n",
      "<class 'str'>\n"
     ]
    }
   ],
   "source": [
    "#Input Function\n",
    "\n",
    "a = input(\"Enter your name = \")\n",
    "print(\"Welcome to the world of programming\",a)\n",
    "print(type(a))"
   ]
  },
  {
   "cell_type": "code",
   "execution_count": null,
   "id": "33dbc416",
   "metadata": {},
   "outputs": [],
   "source": [
    "#Input will always be in the form of string"
   ]
  },
  {
   "cell_type": "code",
   "execution_count": 33,
   "id": "7c6f4d7c",
   "metadata": {},
   "outputs": [
    {
     "name": "stdout",
     "output_type": "stream",
     "text": [
      "Enter your age in years = 35\n",
      "<class 'str'>\n",
      "<class 'int'>\n",
      "Your age is 35\n"
     ]
    }
   ],
   "source": [
    "b = input(\"Enter your age in years = \")\n",
    "print(type(b))\n",
    "b = int(b)\n",
    "print(type(b))\n",
    "print(\"Your age is\", b)\n"
   ]
  },
  {
   "cell_type": "code",
   "execution_count": null,
   "id": "75d5947e",
   "metadata": {},
   "outputs": [],
   "source": [
    "#Practice Set"
   ]
  },
  {
   "cell_type": "code",
   "execution_count": 34,
   "id": "11f757cb",
   "metadata": {},
   "outputs": [
    {
     "name": "stdout",
     "output_type": "stream",
     "text": [
      "The sum of a and b is 35\n"
     ]
    }
   ],
   "source": [
    "# Pr 01 Add 2 numbers\n",
    "\n",
    "a = 30\n",
    "b = 5\n",
    "print(\"The sum of a and b is\",a+b)\n"
   ]
  },
  {
   "cell_type": "code",
   "execution_count": 36,
   "id": "b9488bd9",
   "metadata": {},
   "outputs": [
    {
     "name": "stdout",
     "output_type": "stream",
     "text": [
      "The remainder when a is divided by b is 1\n"
     ]
    }
   ],
   "source": [
    "# pr 02 remainder\n",
    "\n",
    "a = 45\n",
    "b = 4\n",
    "print(\"The remainder when a is divided by b is\",a%b)"
   ]
  },
  {
   "cell_type": "code",
   "execution_count": 38,
   "id": "0331d9a4",
   "metadata": {},
   "outputs": [
    {
     "name": "stdout",
     "output_type": "stream",
     "text": [
      "Enter your favorite actor's name = Shahrukh\n",
      "Your fav actor is Shahrukh\n",
      "<class 'str'>\n"
     ]
    }
   ],
   "source": [
    "# pr 03 type of variable assigned using input function\n",
    "\n",
    "a = input(\"Enter your favorite actor's name = \")\n",
    "print(\"Your fav actor is\",a)\n",
    "print(type(a))"
   ]
  },
  {
   "cell_type": "code",
   "execution_count": 42,
   "id": "a947a299",
   "metadata": {},
   "outputs": [
    {
     "name": "stdout",
     "output_type": "stream",
     "text": [
      "Enter a number a : 40\n",
      "Enter a number b : 60\n",
      "Is a > b ? False\n"
     ]
    }
   ],
   "source": [
    "# pr 04 \n",
    "a = int(input(\"Enter a number a : \"))\n",
    "b = int(input(\"Enter a number b : \"))\n",
    "c = (a>b)\n",
    "print(\"Is a > b ?\",c)"
   ]
  },
  {
   "cell_type": "code",
   "execution_count": 43,
   "id": "6187126c",
   "metadata": {},
   "outputs": [
    {
     "name": "stdout",
     "output_type": "stream",
     "text": [
      "Enter first number : 10\n",
      "Enter second number : 20\n",
      "The average of two numbers is 15.0\n"
     ]
    }
   ],
   "source": [
    "# pr 05 finding the avg of 2 entered numbers\n",
    "\n",
    "a = int(input(\"Enter first number : \"))\n",
    "b = int(input(\"Enter second number : \"))\n",
    "print(\"The average of two numbers is\",(a+b)/2)\n"
   ]
  },
  {
   "cell_type": "code",
   "execution_count": 44,
   "id": "3c884663",
   "metadata": {},
   "outputs": [
    {
     "name": "stdout",
     "output_type": "stream",
     "text": [
      "Enter a number for calculating square : 5\n",
      "The square of this number is 25\n"
     ]
    }
   ],
   "source": [
    "# pr 06 To find the square of entered number\n",
    "\n",
    "a = int(input(\"Enter a number for calculating square : \"))\n",
    "print(\"The square of this number is\",a*a)"
   ]
  }
 ],
 "metadata": {
  "kernelspec": {
   "display_name": "Python 3 (ipykernel)",
   "language": "python",
   "name": "python3"
  },
  "language_info": {
   "codemirror_mode": {
    "name": "ipython",
    "version": 3
   },
   "file_extension": ".py",
   "mimetype": "text/x-python",
   "name": "python",
   "nbconvert_exporter": "python",
   "pygments_lexer": "ipython3",
   "version": "3.9.7"
  }
 },
 "nbformat": 4,
 "nbformat_minor": 5
}
