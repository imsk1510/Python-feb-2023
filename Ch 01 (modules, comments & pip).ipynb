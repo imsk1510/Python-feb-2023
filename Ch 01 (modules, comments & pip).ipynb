{
 "cells": [
  {
   "cell_type": "code",
   "execution_count": 2,
   "id": "31738245",
   "metadata": {},
   "outputs": [
    {
     "name": "stdout",
     "output_type": "stream",
     "text": [
      "Hello World\n"
     ]
    }
   ],
   "source": [
    "print(\"Hello World\")"
   ]
  },
  {
   "cell_type": "code",
   "execution_count": 3,
   "id": "6e861d5d",
   "metadata": {},
   "outputs": [
    {
     "data": {
      "text/plain": [
       "11"
      ]
     },
     "execution_count": 3,
     "metadata": {},
     "output_type": "execute_result"
    }
   ],
   "source": [
    "6+5"
   ]
  },
  {
   "cell_type": "code",
   "execution_count": 5,
   "id": "0f9786b9",
   "metadata": {},
   "outputs": [
    {
     "data": {
      "text/plain": [
       "'SKSK'"
      ]
     },
     "execution_count": 5,
     "metadata": {},
     "output_type": "execute_result"
    }
   ],
   "source": [
    "'''Auther Sohail\n",
    "runwal mycity''' #multiline commenting\n",
    "\n",
    "#single line commenting by using \n",
    "'SK' \"SK\" #SK\n"
   ]
  },
  {
   "cell_type": "code",
   "execution_count": 1,
   "id": "7e1734af",
   "metadata": {},
   "outputs": [
    {
     "name": "stdout",
     "output_type": "stream",
     "text": [
      "Jhonny jhonny yes papa\n",
      "eating suger? No papa\n",
      "Telling lies? No papa\n",
      "Open ur mouth... Ha ha ha\n"
     ]
    }
   ],
   "source": [
    "# Practice set Problrm 01\n",
    "print('''Jhonny jhonny yes papa\n",
    "eating suger? No papa\n",
    "Telling lies? No papa\n",
    "Open ur mouth... Ha ha ha''')"
   ]
  },
  {
   "cell_type": "code",
   "execution_count": 4,
   "id": "e6b810e3",
   "metadata": {},
   "outputs": [
    {
     "name": "stdout",
     "output_type": "stream",
     "text": [
      "Requirement already satisfied: playsound in c:\\users\\sohai\\anaconda3\\lib\\site-packages (1.3.0)\n",
      "Note: you may need to restart the kernel to use updated packages.\n"
     ]
    }
   ],
   "source": [
    "pip install playsound"
   ]
  },
  {
   "cell_type": "code",
   "execution_count": null,
   "id": "44e3c038",
   "metadata": {},
   "outputs": [],
   "source": [
    "# Practice set Problrm 03\n",
    "from playsound import playsound\n",
    "playsound('C:\\\\Users\\\\sohai\\\\Desktop\\\\Python Feb 2023\\\\mp3.mp3')"
   ]
  },
  {
   "cell_type": "code",
   "execution_count": 6,
   "id": "6f4a9236",
   "metadata": {},
   "outputs": [
    {
     "name": "stdout",
     "output_type": "stream",
     "text": [
      "['.ipynb_checkpoints', 'Ch 01.ipynb', 'mp3.mp3']\n"
     ]
    }
   ],
   "source": [
    "# Practice set Problrm 04\n",
    "import os\n",
    "print(os.listdir())"
   ]
  },
  {
   "cell_type": "code",
   "execution_count": 8,
   "id": "78bae5a1",
   "metadata": {},
   "outputs": [
    {
     "name": "stdout",
     "output_type": "stream",
     "text": [
      "sohail is a good boy\n"
     ]
    }
   ],
   "source": [
    "# Practice set Problrm 05\n",
    "\n",
    "# Author: Suhail Kazi\n",
    "# place: Dombivli\n",
    "a = \"sohail is a good boy\"\n",
    "print(a)"
   ]
  }
 ],
 "metadata": {
  "kernelspec": {
   "display_name": "Python 3 (ipykernel)",
   "language": "python",
   "name": "python3"
  },
  "language_info": {
   "codemirror_mode": {
    "name": "ipython",
    "version": 3
   },
   "file_extension": ".py",
   "mimetype": "text/x-python",
   "name": "python",
   "nbconvert_exporter": "python",
   "pygments_lexer": "ipython3",
   "version": "3.9.7"
  }
 },
 "nbformat": 4,
 "nbformat_minor": 5
}
