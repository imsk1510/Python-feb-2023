{
 "cells": [
  {
   "cell_type": "code",
   "execution_count": 1,
   "id": "3f6155c5",
   "metadata": {},
   "outputs": [
    {
     "name": "stdout",
     "output_type": "stream",
     "text": [
      "Enter your name: Kiaan\n",
      "Good Morning, Kiaan\n"
     ]
    }
   ],
   "source": [
    "# concatenation\n",
    "\n",
    "greeting = \"Good Morning, \"\n",
    "name = input(\"Enter your name: \")\n",
    "print(greeting+name)"
   ]
  },
  {
   "cell_type": "code",
   "execution_count": 5,
   "id": "3ed28938",
   "metadata": {},
   "outputs": [
    {
     "name": "stdout",
     "output_type": "stream",
     "text": [
      "K\n",
      "i\n",
      "a\n",
      "a\n",
      "n\n",
      " \n",
      "K\n",
      "a\n",
      "z\n",
      "i\n"
     ]
    },
    {
     "ename": "IndexError",
     "evalue": "string index out of range",
     "output_type": "error",
     "traceback": [
      "\u001b[1;31m---------------------------------------------------------------------------\u001b[0m",
      "\u001b[1;31mIndexError\u001b[0m                                Traceback (most recent call last)",
      "\u001b[1;32m~\\AppData\\Local\\Temp/ipykernel_8636/2595197124.py\u001b[0m in \u001b[0;36m<module>\u001b[1;34m\u001b[0m\n\u001b[0;32m     11\u001b[0m \u001b[0mprint\u001b[0m\u001b[1;33m(\u001b[0m\u001b[0mname\u001b[0m\u001b[1;33m[\u001b[0m\u001b[1;36m8\u001b[0m\u001b[1;33m]\u001b[0m\u001b[1;33m)\u001b[0m\u001b[1;33m\u001b[0m\u001b[1;33m\u001b[0m\u001b[0m\n\u001b[0;32m     12\u001b[0m \u001b[0mprint\u001b[0m\u001b[1;33m(\u001b[0m\u001b[0mname\u001b[0m\u001b[1;33m[\u001b[0m\u001b[1;36m9\u001b[0m\u001b[1;33m]\u001b[0m\u001b[1;33m)\u001b[0m\u001b[1;33m\u001b[0m\u001b[1;33m\u001b[0m\u001b[0m\n\u001b[1;32m---> 13\u001b[1;33m \u001b[0mprint\u001b[0m\u001b[1;33m(\u001b[0m\u001b[0mname\u001b[0m\u001b[1;33m[\u001b[0m\u001b[1;36m10\u001b[0m\u001b[1;33m]\u001b[0m\u001b[1;33m)\u001b[0m\u001b[1;33m\u001b[0m\u001b[1;33m\u001b[0m\u001b[0m\n\u001b[0m",
      "\u001b[1;31mIndexError\u001b[0m: string index out of range"
     ]
    }
   ],
   "source": [
    "# Slicing\n",
    "name = \"Kiaan Kazi\"\n",
    "print(name[0])\n",
    "print(name[1])\n",
    "print(name[2])\n",
    "print(name[3])\n",
    "print(name[4])\n",
    "print(name[5])\n",
    "print(name[6])\n",
    "print(name[7])\n",
    "print(name[8])\n",
    "print(name[9])\n",
    "print(name[10]) "
   ]
  },
  {
   "cell_type": "code",
   "execution_count": 6,
   "id": "bf780a01",
   "metadata": {},
   "outputs": [
    {
     "ename": "NameError",
     "evalue": "name 'b' is not defined",
     "output_type": "error",
     "traceback": [
      "\u001b[1;31m---------------------------------------------------------------------------\u001b[0m",
      "\u001b[1;31mNameError\u001b[0m                                 Traceback (most recent call last)",
      "\u001b[1;32m~\\AppData\\Local\\Temp/ipykernel_8636/3563067890.py\u001b[0m in \u001b[0;36m<module>\u001b[1;34m\u001b[0m\n\u001b[0;32m      1\u001b[0m \u001b[0mname\u001b[0m \u001b[1;33m=\u001b[0m \u001b[1;34m\"Kiaan Kazi\"\u001b[0m\u001b[1;33m\u001b[0m\u001b[1;33m\u001b[0m\u001b[0m\n\u001b[1;32m----> 2\u001b[1;33m \u001b[0mname\u001b[0m\u001b[1;33m[\u001b[0m\u001b[1;36m5\u001b[0m\u001b[1;33m]\u001b[0m\u001b[1;33m=\u001b[0m\u001b[0mb\u001b[0m\u001b[1;33m\u001b[0m\u001b[1;33m\u001b[0m\u001b[0m\n\u001b[0m",
      "\u001b[1;31mNameError\u001b[0m: name 'b' is not defined"
     ]
    }
   ],
   "source": [
    "name = \"Kiaan Kazi\"\n",
    "name[5]=b\n",
    "# It will throw an error as \"str\" object does not support item assignment"
   ]
  },
  {
   "cell_type": "code",
   "execution_count": 13,
   "id": "58cfbdd4",
   "metadata": {},
   "outputs": [
    {
     "name": "stdout",
     "output_type": "stream",
     "text": [
      "Kiaan K\n",
      "Kiaan Kazi\n",
      "Kiaa\n",
      "iaan Kazi\n",
      "an Ka\n"
     ]
    }
   ],
   "source": [
    "# SLICING\n",
    "\n",
    "name = \"Kiaan Kazi\"\n",
    "#.......0123456789   positive indices\n",
    "# ....-10.......-1  negative indices\n",
    "print(name[0:7])\n",
    "print(name[0:])\n",
    "print(name[:4])\n",
    "print(name[-9:])\n",
    "print(name[-7:-2])"
   ]
  },
  {
   "cell_type": "code",
   "execution_count": 17,
   "id": "c415bdd8",
   "metadata": {},
   "outputs": [
    {
     "name": "stdout",
     "output_type": "stream",
     "text": [
      "Kanai\n",
      "KaaIGdy\n"
     ]
    }
   ],
   "source": [
    "#SLICING WITH SKIP VALUE\n",
    "\n",
    "a = \"KiaanKaziIsAGoodBoy\"\n",
    "print(a[0:10:2])\n",
    "print(a[0::3])"
   ]
  },
  {
   "cell_type": "code",
   "execution_count": 24,
   "id": "d044bd88",
   "metadata": {},
   "outputs": [
    {
     "name": "stdout",
     "output_type": "stream",
     "text": [
      "50\n",
      "True\n",
      "False\n",
      "3\n"
     ]
    }
   ],
   "source": [
    "# String Functions\n",
    "story = \"kiaan is a very mischievious boy. ke never studies\"\n",
    "print(len(story))\n",
    "print(story.endswith(\"studies\"))\n",
    "print(story.endswith(\"party\"))\n",
    "print(story.count(\"a\")) #It will count totat \"a\" in string (case sensitive)"
   ]
  },
  {
   "cell_type": "code",
   "execution_count": 43,
   "id": "5a5793cc",
   "metadata": {},
   "outputs": [
    {
     "name": "stdout",
     "output_type": "stream",
     "text": [
      "60\n",
      "True\n",
      "4\n",
      "2\n",
      "India is my country. all indians are my brothers and sisters\n",
      "0\n",
      "america is my country. All americans are my brothers and sisters\n"
     ]
    }
   ],
   "source": [
    "x = \"india is my country. All indians are my brothers and sisters\"\n",
    "print(len(x))\n",
    "print(x.endswith(\"sisters\"))\n",
    "print(x.count(\"a\"))\n",
    "print(x.count(\"india\"))\n",
    "print(x.capitalize())\n",
    "print(x.find(\"india\"))\n",
    "print(x.replace(\"india\",\"america\"))\n"
   ]
  },
  {
   "cell_type": "code",
   "execution_count": 45,
   "id": "86d452fc",
   "metadata": {},
   "outputs": [
    {
     "name": "stdout",
     "output_type": "stream",
     "text": [
      "India is my \\country. \n",
      " All \t Indians are my \"brothers and sisters \n"
     ]
    }
   ],
   "source": [
    "#Escape Sequence\n",
    "\n",
    "a = \"India is my \\\\country. \\n All \\t Indians are my \\\"brothers and sisters\"\n",
    "print(a)\n"
   ]
  },
  {
   "cell_type": "code",
   "execution_count": 47,
   "id": "ea93ee59",
   "metadata": {},
   "outputs": [
    {
     "name": "stdout",
     "output_type": "stream",
     "text": [
      "Enter your name: Kiaan\n",
      "Good Morning, Kiaan\n"
     ]
    }
   ],
   "source": [
    "#Practice Set 01\n",
    "\n",
    "a = input(\"Enter your name: \")\n",
    "print(\"Good Morning,\",a)"
   ]
  },
  {
   "cell_type": "code",
   "execution_count": 48,
   "id": "be1e2a4a",
   "metadata": {},
   "outputs": [
    {
     "name": "stdout",
     "output_type": "stream",
     "text": [
      "Enter your name: Kiaan\n",
      "Enter today's date: 15/10/2016\n",
      "Dear Kiaan,\n",
      "                    You are selected!\n",
      "                    15/10/2016\n"
     ]
    }
   ],
   "source": [
    "#Practice Set 02\n",
    "\n",
    "letter = '''Dear NAME,\n",
    "                    You are selected!\n",
    "                    DATE'''\n",
    "name = input(\"Enter your name: \")\n",
    "date = input(\"Enter today's date: \")\n",
    "letter = letter.replace(\"NAME\",name)\n",
    "letter = letter.replace(\"DATE\",date)\n",
    "print(letter)"
   ]
  },
  {
   "cell_type": "code",
   "execution_count": 49,
   "id": "eaf146c7",
   "metadata": {},
   "outputs": [
    {
     "name": "stdout",
     "output_type": "stream",
     "text": [
      "19\n"
     ]
    }
   ],
   "source": [
    "# Practice set 03\n",
    "\n",
    "b = \"Ye dunia ek dulhan.  Dulhan ke maathe ki bindia.\"\n",
    "print(b.find(\"  \"))"
   ]
  },
  {
   "cell_type": "code",
   "execution_count": 52,
   "id": "1f51d287",
   "metadata": {},
   "outputs": [
    {
     "name": "stdout",
     "output_type": "stream",
     "text": [
      "Ye dunia ek dulhan. Dulhan ke maathe ki bindia.\n",
      "Ye dunia ek dulhan. Dulhan ke maathe ki bindia.\n"
     ]
    }
   ],
   "source": [
    "# Practice set 04\n",
    "\n",
    "b = \"Ye dunia ek dulhan.  Dulhan ke maathe ki bindia.\"\n",
    "print(b.replace(\"  \",\" \"))\n",
    "\n",
    "#OR\n",
    "\n",
    "b = b.replace(\"  \",\" \")\n",
    "print(b)\n"
   ]
  },
  {
   "cell_type": "code",
   "execution_count": 56,
   "id": "50fd133a",
   "metadata": {},
   "outputs": [
    {
     "name": "stdout",
     "output_type": "stream",
     "text": [
      "Dear Kiaan, This Python course is very nice. Thanks!\n",
      "Dear Kiaan,\n",
      "\tThis Python course is very nice.\n",
      "\t\tThanks!\n"
     ]
    }
   ],
   "source": [
    "# Practice Set 05\n",
    "\n",
    "letter = \"Dear Kiaan, This Python course is very nice. Thanks!\"\n",
    "print(letter)\n",
    "\n",
    "#Using escape sequence\n",
    "\n",
    "letter = \"Dear Kiaan,\\n\\tThis Python course is very nice.\\n\\t\\tThanks!\"\n",
    "print(letter)"
   ]
  },
  {
   "cell_type": "code",
   "execution_count": null,
   "id": "e690e52c",
   "metadata": {},
   "outputs": [],
   "source": []
  },
  {
   "cell_type": "code",
   "execution_count": null,
   "id": "caa2b49d",
   "metadata": {},
   "outputs": [],
   "source": []
  },
  {
   "cell_type": "code",
   "execution_count": null,
   "id": "a7351070",
   "metadata": {},
   "outputs": [],
   "source": []
  },
  {
   "cell_type": "code",
   "execution_count": null,
   "id": "76d08bf8",
   "metadata": {},
   "outputs": [],
   "source": []
  }
 ],
 "metadata": {
  "kernelspec": {
   "display_name": "Python 3 (ipykernel)",
   "language": "python",
   "name": "python3"
  },
  "language_info": {
   "codemirror_mode": {
    "name": "ipython",
    "version": 3
   },
   "file_extension": ".py",
   "mimetype": "text/x-python",
   "name": "python",
   "nbconvert_exporter": "python",
   "pygments_lexer": "ipython3",
   "version": "3.9.7"
  }
 },
 "nbformat": 4,
 "nbformat_minor": 5
}
